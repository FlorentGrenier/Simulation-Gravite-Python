{
 "cells": [
  {
   "cell_type": "markdown",
   "metadata": {},
   "source": [
    "# Import librairies"
   ]
  },
  {
   "cell_type": "code",
   "execution_count": 3,
   "metadata": {},
   "outputs": [],
   "source": [
    "import pygame\n",
    "import numpy as np\n",
    "import random"
   ]
  },
  {
   "cell_type": "code",
   "execution_count": 4,
   "metadata": {},
   "outputs": [],
   "source": [
    "# input : Masse du soleil, pas de temps, position x, position y, vitesse x, vitesse y\n",
    "def next_iteration(M, dt, x, y, vx, vy):\n",
    "    G = 6.674184e-11\n",
    "    k = - G * M / (x ** 2. + y ** 2.) ** (3./2.) \n",
    "\n",
    "    vx = k * x * dt + vx\n",
    "    vy = k * y * dt + vy\n",
    "\n",
    "    # return updated positions and velocities\n",
    "    # output : position x, position y, vitesse x, vitesse y\n",
    "    return [x + dt * vx, y + dt * vy, vx, vy]"
   ]
  },
  {
   "cell_type": "code",
   "execution_count": 5,
   "metadata": {},
   "outputs": [],
   "source": [
    "class Planet:\n",
    "    def __init__(self, name,x,y,vx,vy,radius=5):\n",
    "        self.name = f\"P-{name}\"\n",
    "        self.x = x \n",
    "        self.y = y\n",
    "        self.vx = vx\n",
    "        self.vy = vy\n",
    "        self.radius = radius\n",
    "\n",
    "        self.distance = 0.0\n",
    "        self.angle = 0.0\n",
    "        \n",
    "        self.R = random.randint(10,245)\n",
    "        self.G = random.randint(10,245)\n",
    "        self.B = random.randint(10,245)\n",
    "\n",
    "        self.revolution = False\n",
    "        self.revolutionCounter = 0\n",
    "\n",
    "    def draw(self, display):\n",
    "        pygame.draw.circle(display, (self.R, self.G, self.B), (self.x,self.y), self.radius)\n",
    "\n",
    "    def calculRevolution(self, v1, v2):\n",
    "        newAngle = v1.angle_to(v2)\n",
    "        current = self.angle\n",
    "        self.angle += newAngle - current\n",
    "        if(np.sign(current) != np.sign(newAngle)):\n",
    "            self.revolutionCounter = self.revolutionCounter + 1\n",
    "            if self.revolutionCounter == 3:\n",
    "                self.revolution = True\n",
    "                print(f\"{self.name} en orbite autour du soleil !\")\n",
    "\n",
    "    def checkCollisionWithSun(self, v1, v2):\n",
    "        self.distance = v1.distance_to(v2)\n",
    "        if self.distance < 10 + 5:\n",
    "            self.radius = 0\n",
    "\n",
    "    def get(self):\n",
    "        return {'Name':self.name,'Revolution':self.revolution }\n",
    "        \n",
    "        \n",
    "class Sun:\n",
    "    def __init__(self,x,y,masse,radius = 10):\n",
    "        self.masse = masse\n",
    "        self.radius = radius\n",
    "        self.x = x\n",
    "        self.y = y\n",
    "\n",
    "    def draw(self, display):\n",
    "        pygame.draw.circle(display, (255, 255, 0), (self.x,self.y), self.radius)\n",
    "    "
   ]
  },
  {
   "cell_type": "code",
   "execution_count": 6,
   "metadata": {},
   "outputs": [],
   "source": [
    "def drawGrid(window_width, window_height, display, color = [250,250,250], show = False ):\n",
    "    if(show):\n",
    "        blockSize = 20 #Set the size of the grid block\n",
    "        for x in range(0, window_width, blockSize):\n",
    "            for y in range(0, window_height, blockSize):\n",
    "                rect = pygame.Rect(x, y, blockSize, blockSize)\n",
    "                pygame.draw.rect(display, color, rect, 1)"
   ]
  },
  {
   "cell_type": "code",
   "execution_count": 10,
   "metadata": {},
   "outputs": [
    {
     "name": "stderr",
     "output_type": "stream",
     "text": [
      "C:\\Users\\Florent\\AppData\\Local\\Temp/ipykernel_17716/528361388.py:58: DeprecationWarning: an integer is required (got type float).  Implicit conversion to integers using __int__ is deprecated, and may be removed in a future version of Python.\n",
      "  pygame.draw.circle(display, (255, 255, 0), (self.x,self.y), self.radius)\n",
      "C:\\Users\\Florent\\AppData\\Local\\Temp/ipykernel_17716/528361388.py:25: DeprecationWarning: an integer is required (got type float).  Implicit conversion to integers using __int__ is deprecated, and may be removed in a future version of Python.\n",
      "  pygame.draw.circle(display, (self.R, self.G, self.B), (self.x,self.y), self.radius)\n"
     ]
    },
    {
     "name": "stdout",
     "output_type": "stream",
     "text": [
      "3\n"
     ]
    }
   ],
   "source": [
    "import pygame\n",
    "import tkinter as tk\n",
    "size=[600,600]\n",
    "dt = 0.05\n",
    "planets = []\n",
    "planets.append(Planet(f\"PerfectPlanet\",249,140,4,4))\n",
    "number_of_planets = 0\n",
    "#for i in range(100):\n",
    "#   planets.append(Planet(f\"{i}\",random.randint(0,250),random.randint(0,250),random.randint(5,7),random.randint(5,7)))\n",
    "sun = Sun(size[0]/2,size[0]/2,100000000000000)\n",
    "\n",
    "# Animation dans la fenêtre PyGame\n",
    "def animation(screen) :\n",
    "    for planet in planets : \n",
    "        planet.draw(screen)\n",
    "        planet.x, planet.y, planet.vx, planet.vy = next_iteration(sun.masse, dt, planet.x-sun.x,planet.y-sun.y,planet.vx,planet.vy)\n",
    "        planet.x += sun.x\n",
    "        planet.y += sun.y\n",
    "        v1 = pygame.math.Vector2(sun.x, sun.y)\n",
    "        v2 = pygame.math.Vector2(planet.x, planet.y)\n",
    "        planet.calculRevolution(v1,v2)\n",
    "        planet.checkCollisionWithSun(v1,v2)\n",
    "    sun.draw(screen)\n",
    "    pygame.display.flip()\n",
    " \n",
    "# Fenetre TK contenant un bouton qui flashe\n",
    "class Alarm(tk.Frame):\n",
    "\n",
    "\n",
    "    def __init__(self):\n",
    "        tk.Frame.__init__(self)\n",
    "\n",
    "        self.pack()\n",
    "        lbl_planet = tk.Label(self, text='Nombre de planètes :')\n",
    "        input_planet = tk.Entry()\n",
    "\n",
    "        btn_set = tk.Button(self, text=\"Set planet\")\n",
    "\n",
    "        lbl_planet.pack()\n",
    "        input_planet.pack()\n",
    "        btn_set.pack()\n",
    "    \n",
    "       \n",
    " \n",
    "def main() :\n",
    "    pygame.init()\n",
    "    clock = pygame.time.Clock()\n",
    "    screen=pygame.display.set_mode(size)\n",
    "\n",
    "    while True :\n",
    "        event = pygame.event.poll()  \n",
    "        if event.type == pygame.QUIT: break \n",
    "        if event.type == pygame.MOUSEBUTTONDOWN:\n",
    "            print(event.dict[\"button\"])\n",
    "            if event.dict[\"button\"] == 3 : \n",
    "                Alarm().mainloop()  \n",
    "        animation(screen)\n",
    "        screen.fill((0, 0, 0))\n",
    "        clock.tick(60)\n",
    "    pygame.quit()\n",
    " \n",
    "main()"
   ]
  }
 ],
 "metadata": {
  "interpreter": {
   "hash": "bdda31b3a0b7ab9c56515ed654b35031d764b366d0fac196bee995b7ec2e6fd8"
  },
  "kernelspec": {
   "display_name": "Python 3.8.5 ('myenv')",
   "language": "python",
   "name": "python3"
  },
  "language_info": {
   "codemirror_mode": {
    "name": "ipython",
    "version": 3
   },
   "file_extension": ".py",
   "mimetype": "text/x-python",
   "name": "python",
   "nbconvert_exporter": "python",
   "pygments_lexer": "ipython3",
   "version": "3.7.10"
  },
  "orig_nbformat": 4
 },
 "nbformat": 4,
 "nbformat_minor": 2
}
