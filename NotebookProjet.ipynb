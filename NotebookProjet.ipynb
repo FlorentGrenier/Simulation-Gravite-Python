{
 "cells": [
  {
   "cell_type": "markdown",
   "metadata": {},
   "source": [
    "# Import librairies"
   ]
  },
  {
   "cell_type": "code",
   "execution_count": 6,
   "metadata": {},
   "outputs": [],
   "source": [
    "import pygame, random, json\n",
    "import numpy as np"
   ]
  },
  {
   "cell_type": "markdown",
   "metadata": {},
   "source": [
    "# Math formule"
   ]
  },
  {
   "cell_type": "code",
   "execution_count": 7,
   "metadata": {},
   "outputs": [],
   "source": [
    "# input : Sun mass, time step, position x, position y, velocity x, velocity y\n",
    "def next_iteration(M, dt, x, y, vx, vy):\n",
    "    G = 6.674184e-11\n",
    "    k = - G * M / (x ** 2. + y ** 2.) ** (3./2.) \n",
    "\n",
    "    vx = k * x * dt + vx\n",
    "    vy = k * y * dt + vy\n",
    "\n",
    "    # return updated positions and velocities\n",
    "    # output : position x, position y, vitesse x, vitesse y\n",
    "    return [x + dt * vx, y + dt * vy, vx, vy]"
   ]
  },
  {
   "cell_type": "markdown",
   "metadata": {},
   "source": [
    "# Simulation"
   ]
  },
  {
   "cell_type": "code",
   "execution_count": 8,
   "metadata": {},
   "outputs": [],
   "source": [
    "class Planet:\n",
    "    def __init__(self, name =\"PerfectPlanet\",x=249,y=140,vx=4,vy=4,radius=5):\n",
    "        self.name = f\"P-{name}\"\n",
    "        self.x = x \n",
    "        self.y = y\n",
    "        self.vx = vx\n",
    "        self.vy = vy\n",
    "        self.radius = radius\n",
    "\n",
    "        self.distance = 0.0\n",
    "        self.angle = 0.0\n",
    "        \n",
    "        self.R = random.randint(10,245)\n",
    "        self.G = random.randint(10,245)\n",
    "        self.B = random.randint(10,245)\n",
    "\n",
    "        self.revolution = False\n",
    "        self.revolutionCounter = 0\n",
    "\n",
    "    def draw(self, display):\n",
    "        pygame.draw.circle(display, (self.R, self.G, self.B), (self.x,self.y), self.radius)\n",
    "\n",
    "    def calculRevolution(self, v1, v2):\n",
    "        newAngle = v1.angle_to(v2)\n",
    "        current = self.angle\n",
    "        self.angle += newAngle - current\n",
    "        if(np.sign(current) != np.sign(newAngle)):\n",
    "            self.revolutionCounter = self.revolutionCounter + 1\n",
    "            if self.revolutionCounter == 3:\n",
    "                self.revolution = True\n",
    "                print(f\"{self.name} en orbite autour du soleil !\")\n",
    "\n",
    "    def checkCollisionWithSun(self, v1, v2):\n",
    "        self.distance = v1.distance_to(v2)\n",
    "        if self.distance < 10 + 5:\n",
    "            self.radius = 0\n",
    "\n",
    "    def get(self):\n",
    "        return f\"Name : {self.name}, Revolution : {self.revolution} \" \n",
    "\n",
    "    def saveToJson(self):\n",
    "        data = self.get()\n",
    "        with open('data.json', 'w') as f:\n",
    "            json.dump(data, f)\n",
    "        \n",
    "        \n",
    "class Sun:\n",
    "    def __init__(self,x,y,masse = 100000000000000 ,radius = 10):\n",
    "        self.masse = masse\n",
    "        self.radius = radius\n",
    "        self.x = x\n",
    "        self.y = y\n",
    "\n",
    "    def draw(self, display):\n",
    "        pygame.draw.circle(display, (255, 255, 0), (self.x,self.y), self.radius)\n",
    "    "
   ]
  },
  {
   "cell_type": "code",
   "execution_count": 9,
   "metadata": {},
   "outputs": [],
   "source": [
    "def drawGrid(window_width, window_height, display, color = [250,250,250], show = False ):\n",
    "    if(show):\n",
    "        blockSize = 20 #Set the size of the grid block\n",
    "        for x in range(0, window_width, blockSize):\n",
    "            for y in range(0, window_height, blockSize):\n",
    "                rect = pygame.Rect(x, y, blockSize, blockSize)\n",
    "                pygame.draw.rect(display, color, rect, 1)"
   ]
  },
  {
   "cell_type": "code",
   "execution_count": 10,
   "metadata": {},
   "outputs": [
    {
     "ename": "Error",
     "evalue": "Canceled future for execute_request message before replies were done",
     "output_type": "error",
     "traceback": [
      "Error: Canceled future for execute_request message before replies were done",
      "at t.KernelShellFutureHandler.dispose (c:\\Users\\Florent\\.vscode\\extensions\\ms-toolsai.jupyter-2022.3.1000901801\\out\\extension.js:2:1204175)",
      "at c:\\Users\\Florent\\.vscode\\extensions\\ms-toolsai.jupyter-2022.3.1000901801\\out\\extension.js:2:1223227",
      "at Map.forEach (<anonymous>)",
      "at v._clearKernelState (c:\\Users\\Florent\\.vscode\\extensions\\ms-toolsai.jupyter-2022.3.1000901801\\out\\extension.js:2:1223212)",
      "at v.dispose (c:\\Users\\Florent\\.vscode\\extensions\\ms-toolsai.jupyter-2022.3.1000901801\\out\\extension.js:2:1216694)",
      "at c:\\Users\\Florent\\.vscode\\extensions\\ms-toolsai.jupyter-2022.3.1000901801\\out\\extension.js:2:533674",
      "at t.swallowExceptions (c:\\Users\\Florent\\.vscode\\extensions\\ms-toolsai.jupyter-2022.3.1000901801\\out\\extension.js:2:913059)",
      "at dispose (c:\\Users\\Florent\\.vscode\\extensions\\ms-toolsai.jupyter-2022.3.1000901801\\out\\extension.js:2:533652)",
      "at t.RawSession.dispose (c:\\Users\\Florent\\.vscode\\extensions\\ms-toolsai.jupyter-2022.3.1000901801\\out\\extension.js:2:537330)",
      "at processTicksAndRejections (node:internal/process/task_queues:96:5)"
     ]
    }
   ],
   "source": [
    "import pygame\n",
    "import tkinter as tk\n",
    "size=[600,600]\n",
    "clock = pygame.time.Clock()\n",
    "screen=pygame.display.set_mode(size)\n",
    "dt = 0.05\n",
    "planets = []\n",
    "planets.append(Planet())\n",
    "number_of_planets = 0\n",
    "#for i in range(number_of_planets):\n",
    "#   planets.append(Planet(f\"{i}\",random.randint(0,250),random.randint(0,250),random.randint(5,7),random.randint(5,7)))\n",
    "sun = Sun(size[0]/2,size[0]/2)\n",
    "\n",
    "# Animation dans la fenêtre PyGame\n",
    "def animation(screen) :\n",
    "    for planet in planets : \n",
    "        planet.draw(screen)\n",
    "        planet.x, planet.y, planet.vx, planet.vy = next_iteration(sun.masse, dt, planet.x-sun.x,planet.y-sun.y,planet.vx,planet.vy)\n",
    "        planet.x += sun.x\n",
    "        planet.y += sun.y\n",
    "        v1 = pygame.math.Vector2(sun.x, sun.y)\n",
    "        v2 = pygame.math.Vector2(planet.x, planet.y)\n",
    "        planet.calculRevolution(v1,v2)\n",
    "        planet.checkCollisionWithSun(v1,v2)\n",
    "    sun.draw(screen)\n",
    "    pygame.display.flip()\n",
    "    \n",
    " \n",
    "def mainloop():\n",
    "    while True:\n",
    "        for event in pygame.event.get():\n",
    "            if event.type == pygame.QUIT:\n",
    "                pygame.quit()\n",
    "        animation(screen)\n",
    "        screen.fill((0, 0, 0))\n",
    "        clock.tick(30)\n",
    "        pygame.display.update()\n",
    "\n",
    "\n",
    "mainloop()"
   ]
  }
 ],
 "metadata": {
  "interpreter": {
   "hash": "bdda31b3a0b7ab9c56515ed654b35031d764b366d0fac196bee995b7ec2e6fd8"
  },
  "kernelspec": {
   "display_name": "Python 3.8.5 ('myenv')",
   "language": "python",
   "name": "python3"
  },
  "language_info": {
   "codemirror_mode": {
    "name": "ipython",
    "version": 3
   },
   "file_extension": ".py",
   "mimetype": "text/x-python",
   "name": "python",
   "nbconvert_exporter": "python",
   "pygments_lexer": "ipython3",
   "version": "3.7.10"
  },
  "orig_nbformat": 4
 },
 "nbformat": 4,
 "nbformat_minor": 2
}
