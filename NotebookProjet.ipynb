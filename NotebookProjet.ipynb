{
 "cells": [
  {
   "cell_type": "markdown",
   "metadata": {},
   "source": [
    "# Import librairies"
   ]
  },
  {
   "cell_type": "code",
   "execution_count": 16,
   "metadata": {},
   "outputs": [],
   "source": [
    "import pygame, random, json\n",
    "import numpy as np\n",
    "import matplotlib.pyplot as plt"
   ]
  },
  {
   "cell_type": "markdown",
   "metadata": {},
   "source": [
    "# Math formule"
   ]
  },
  {
   "cell_type": "code",
   "execution_count": 17,
   "metadata": {},
   "outputs": [],
   "source": [
    "# input : Sun mass, time step, position x, position y, velocity x, velocity y\n",
    "def next_iteration(M, dt, x, y, vx, vy):\n",
    "    G = 6.674184e-11\n",
    "    k = - G * M / (x ** 2. + y ** 2.) ** (3./2.) \n",
    "\n",
    "    vx = k * x * dt + vx\n",
    "    vy = k * y * dt + vy\n",
    "\n",
    "    # return updated positions and velocities\n",
    "    # output : position x, position y, vitesse x, vitesse y\n",
    "    return [x + dt * vx, y + dt * vy, vx, vy]"
   ]
  },
  {
   "cell_type": "markdown",
   "metadata": {},
   "source": [
    "# Simulation"
   ]
  },
  {
   "cell_type": "code",
   "execution_count": 18,
   "metadata": {},
   "outputs": [],
   "source": [
    "class Planet:\n",
    "    def __init__(self,index=0, name =\"PerfectPlanet\",x=249,y=140,vx=4,vy=4,radius=5):\n",
    "        self.index = index\n",
    "        self.name = f\"P-{name}\"\n",
    "        self.x = x \n",
    "        self.y = y\n",
    "        self.vx = vx\n",
    "        self.vy = vy\n",
    "        self.radius = radius\n",
    "\n",
    "        self.distance = 0.0\n",
    "        self.angle = 0.0\n",
    "        \n",
    "        self.R = random.randint(10,245)\n",
    "        self.B = random.randint(10,245)\n",
    "        self.G = random.randint(10,245)\n",
    "\n",
    "        self.revolution = False\n",
    "        self.revolutionCounter = 0\n",
    "        self.destroy = False\n",
    "\n",
    "        self.x0 = x \n",
    "        self.y0 = y\n",
    "        self.vx0 = vx\n",
    "        self.vy0 = vy\n",
    "\n",
    "    def draw(self, display):\n",
    "        pygame.draw.circle(display, (self.R, self.G, self.B), (self.x,self.y), self.radius)\n",
    "\n",
    "    def calculRevolution(self, v1, v2):\n",
    "        newAngle = v1.angle_to(v2)\n",
    "        current = self.angle\n",
    "        self.angle += newAngle - current\n",
    "        if(np.sign(current) != np.sign(newAngle)):\n",
    "            self.revolutionCounter = self.revolutionCounter + 1\n",
    "            if self.revolutionCounter == 3:\n",
    "                self.revolution = True\n",
    "                print(f\"{self.name} en orbite autour du soleil !\")\n",
    "\n",
    "    def checkCollisionWithSun(self, v1, v2):\n",
    "        self.distance = v1.distance_to(v2)\n",
    "        if self.distance < 10 + 5:\n",
    "            self.radius = 0\n",
    "            self.destroy = True\n",
    "\n",
    "    def get(self):\n",
    "        data = {\n",
    "            'name' : f'{self.name}',\n",
    "            'revolution' : self.revolution,\n",
    "            'x at t0' : self.x0,\n",
    "            'y at t0' : self.y0,\n",
    "            'vx at t0' : self.vx0,\n",
    "            'vy at t0' : self.vy0,\n",
    "            'radius' : self.radius,\n",
    "            'distance at t0' : self.distance,\n",
    "            'angle at t0' : self.angle,\n",
    "            'destroy' : self.destroy,\n",
    "            'color' : [{\n",
    "                'r' : self.R,\n",
    "                'b' : self.B,\n",
    "                'g' : self.G\n",
    "            }]\n",
    "        }\n",
    "        return data\n",
    "\n",
    "\n",
    "        \n",
    "        \n",
    "class Sun:\n",
    "    def __init__(self,name,x,y,masse = 100000000000000 ,radius = 10):\n",
    "        self.name = f\"S-{name}\"\n",
    "        self.masse = masse\n",
    "        self.radius = radius\n",
    "        self.x = x\n",
    "        self.y = y\n",
    "\n",
    "    def draw(self, display):\n",
    "        pygame.draw.circle(display, (255, 255, 0), (self.x,self.y), self.radius)\n",
    "\n",
    "    def get(self):\n",
    "        data = {'Sun':[{\n",
    "            'name' : f'{self.name}',\n",
    "            'masse' : self.masse,\n",
    "            'radius' : self.radius,\n",
    "            'x position' : self.x,\n",
    "            'y position' : self.y\n",
    "        }]}\n",
    "        return data\n",
    "\n",
    "    def saveToJson(self):\n",
    "        with open('data_sun.json', 'w') as f:\n",
    "            json.dump(self.get(), f)\n",
    "    "
   ]
  },
  {
   "cell_type": "code",
   "execution_count": 19,
   "metadata": {},
   "outputs": [],
   "source": [
    "def drawGrid(window_width, window_height, display, color = [250,250,250], show = False ):\n",
    "    if(show):\n",
    "        blockSize = 20 #Set the size of the grid block\n",
    "        for x in range(0, window_width, blockSize):\n",
    "            for y in range(0, window_height, blockSize):\n",
    "                rect = pygame.Rect(x, y, blockSize, blockSize)\n",
    "                pygame.draw.rect(display, color, rect, 1)"
   ]
  },
  {
   "cell_type": "code",
   "execution_count": 20,
   "metadata": {},
   "outputs": [],
   "source": [
    "def saveToJson(data):        \n",
    "    with open('data_planet.json', 'w') as f:\n",
    "        json.dump(data, f)\n",
    "\n",
    "def updateJson(index,dataToUpdate,value):\n",
    "    with open(\"data_planet.json\", \"r\") as jsonFile:\n",
    "        data = json.load(jsonFile)\n",
    "        data[f\"_id{index}\"][dataToUpdate] = value\n",
    "    saveToJson(data)\n"
   ]
  },
  {
   "cell_type": "code",
   "execution_count": 21,
   "metadata": {},
   "outputs": [
    {
     "name": "stderr",
     "output_type": "stream",
     "text": [
      "C:\\Users\\Florent\\AppData\\Local\\Temp/ipykernel_29536/3062152421.py:78: DeprecationWarning: an integer is required (got type float).  Implicit conversion to integers using __int__ is deprecated, and may be removed in a future version of Python.\n",
      "  pygame.draw.circle(display, (255, 255, 0), (self.x,self.y), self.radius)\n",
      "C:\\Users\\Florent\\AppData\\Local\\Temp/ipykernel_29536/3062152421.py:28: DeprecationWarning: an integer is required (got type float).  Implicit conversion to integers using __int__ is deprecated, and may be removed in a future version of Python.\n",
      "  pygame.draw.circle(display, (self.R, self.G, self.B), (self.x,self.y), self.radius)\n"
     ]
    },
    {
     "name": "stdout",
     "output_type": "stream",
     "text": [
      "P-9 en orbite autour du soleil !\n",
      "P-31 en orbite autour du soleil !\n",
      "P-23 en orbite autour du soleil !\n",
      "P-32 en orbite autour du soleil !\n",
      "P-33 en orbite autour du soleil !\n"
     ]
    },
    {
     "ename": "KeyboardInterrupt",
     "evalue": "",
     "output_type": "error",
     "traceback": [
      "\u001b[1;31m---------------------------------------------------------------------------\u001b[0m",
      "\u001b[1;31mKeyboardInterrupt\u001b[0m                         Traceback (most recent call last)",
      "\u001b[1;32m~\\AppData\\Local\\Temp/ipykernel_29536/87299582.py\u001b[0m in \u001b[0;36m<module>\u001b[1;34m\u001b[0m\n\u001b[0;32m     54\u001b[0m \u001b[1;33m\u001b[0m\u001b[0m\n\u001b[0;32m     55\u001b[0m \u001b[1;33m\u001b[0m\u001b[0m\n\u001b[1;32m---> 56\u001b[1;33m \u001b[0mmainloop\u001b[0m\u001b[1;33m(\u001b[0m\u001b[1;33m)\u001b[0m\u001b[1;33m\u001b[0m\u001b[1;33m\u001b[0m\u001b[0m\n\u001b[0m",
      "\u001b[1;32m~\\AppData\\Local\\Temp/ipykernel_29536/87299582.py\u001b[0m in \u001b[0;36mmainloop\u001b[1;34m()\u001b[0m\n\u001b[0;32m     45\u001b[0m \u001b[1;33m\u001b[0m\u001b[0m\n\u001b[0;32m     46\u001b[0m \u001b[1;33m\u001b[0m\u001b[0m\n\u001b[1;32m---> 47\u001b[1;33m         \u001b[0manimation\u001b[0m\u001b[1;33m(\u001b[0m\u001b[0mscreen\u001b[0m\u001b[1;33m)\u001b[0m\u001b[1;33m\u001b[0m\u001b[1;33m\u001b[0m\u001b[0m\n\u001b[0m\u001b[0;32m     48\u001b[0m         \u001b[0mpygame\u001b[0m\u001b[1;33m.\u001b[0m\u001b[0mdisplay\u001b[0m\u001b[1;33m.\u001b[0m\u001b[0mflip\u001b[0m\u001b[1;33m(\u001b[0m\u001b[1;33m)\u001b[0m\u001b[1;33m\u001b[0m\u001b[1;33m\u001b[0m\u001b[0m\n\u001b[0;32m     49\u001b[0m         \u001b[0mclock\u001b[0m\u001b[1;33m.\u001b[0m\u001b[0mtick\u001b[0m\u001b[1;33m(\u001b[0m\u001b[1;36m60\u001b[0m\u001b[1;33m)\u001b[0m\u001b[1;33m\u001b[0m\u001b[1;33m\u001b[0m\u001b[0m\n",
      "\u001b[1;32m~\\AppData\\Local\\Temp/ipykernel_29536/87299582.py\u001b[0m in \u001b[0;36manimation\u001b[1;34m(screen)\u001b[0m\n\u001b[0;32m     28\u001b[0m         \u001b[0mplanet\u001b[0m\u001b[1;33m.\u001b[0m\u001b[0mcheckCollisionWithSun\u001b[0m\u001b[1;33m(\u001b[0m\u001b[0mv1\u001b[0m\u001b[1;33m,\u001b[0m\u001b[0mv2\u001b[0m\u001b[1;33m)\u001b[0m\u001b[1;33m\u001b[0m\u001b[1;33m\u001b[0m\u001b[0m\n\u001b[0;32m     29\u001b[0m         \u001b[1;32mif\u001b[0m\u001b[1;33m(\u001b[0m\u001b[0mplanet\u001b[0m\u001b[1;33m.\u001b[0m\u001b[0mrevolution\u001b[0m \u001b[1;33m==\u001b[0m \u001b[1;32mTrue\u001b[0m \u001b[1;32mor\u001b[0m \u001b[0mplanet\u001b[0m\u001b[1;33m.\u001b[0m\u001b[0mdestroy\u001b[0m \u001b[1;33m==\u001b[0m \u001b[1;32mTrue\u001b[0m\u001b[1;33m)\u001b[0m\u001b[1;33m:\u001b[0m\u001b[1;33m\u001b[0m\u001b[1;33m\u001b[0m\u001b[0m\n\u001b[1;32m---> 30\u001b[1;33m             \u001b[0mupdateJson\u001b[0m\u001b[1;33m(\u001b[0m\u001b[0mplanet\u001b[0m\u001b[1;33m.\u001b[0m\u001b[0mindex\u001b[0m\u001b[1;33m,\u001b[0m \u001b[1;34m'revolution'\u001b[0m\u001b[1;33m,\u001b[0m\u001b[1;32mTrue\u001b[0m\u001b[1;33m)\u001b[0m\u001b[1;33m\u001b[0m\u001b[1;33m\u001b[0m\u001b[0m\n\u001b[0m\u001b[0;32m     31\u001b[0m             \u001b[0mupdateJson\u001b[0m\u001b[1;33m(\u001b[0m\u001b[0mplanet\u001b[0m\u001b[1;33m.\u001b[0m\u001b[0mindex\u001b[0m\u001b[1;33m,\u001b[0m \u001b[1;34m'destroy'\u001b[0m\u001b[1;33m,\u001b[0m\u001b[1;32mTrue\u001b[0m\u001b[1;33m)\u001b[0m\u001b[1;33m\u001b[0m\u001b[1;33m\u001b[0m\u001b[0m\n\u001b[0;32m     32\u001b[0m \u001b[1;33m\u001b[0m\u001b[0m\n",
      "\u001b[1;32m~\\AppData\\Local\\Temp/ipykernel_29536/4265783308.py\u001b[0m in \u001b[0;36mupdateJson\u001b[1;34m(index, dataToUpdate, value)\u001b[0m\n\u001b[0;32m      4\u001b[0m \u001b[1;33m\u001b[0m\u001b[0m\n\u001b[0;32m      5\u001b[0m \u001b[1;32mdef\u001b[0m \u001b[0mupdateJson\u001b[0m\u001b[1;33m(\u001b[0m\u001b[0mindex\u001b[0m\u001b[1;33m,\u001b[0m\u001b[0mdataToUpdate\u001b[0m\u001b[1;33m,\u001b[0m\u001b[0mvalue\u001b[0m\u001b[1;33m)\u001b[0m\u001b[1;33m:\u001b[0m\u001b[1;33m\u001b[0m\u001b[1;33m\u001b[0m\u001b[0m\n\u001b[1;32m----> 6\u001b[1;33m     \u001b[1;32mwith\u001b[0m \u001b[0mopen\u001b[0m\u001b[1;33m(\u001b[0m\u001b[1;34m\"data_planet.json\"\u001b[0m\u001b[1;33m,\u001b[0m \u001b[1;34m\"r\"\u001b[0m\u001b[1;33m)\u001b[0m \u001b[1;32mas\u001b[0m \u001b[0mjsonFile\u001b[0m\u001b[1;33m:\u001b[0m\u001b[1;33m\u001b[0m\u001b[1;33m\u001b[0m\u001b[0m\n\u001b[0m\u001b[0;32m      7\u001b[0m         \u001b[0mdata\u001b[0m \u001b[1;33m=\u001b[0m \u001b[0mjson\u001b[0m\u001b[1;33m.\u001b[0m\u001b[0mload\u001b[0m\u001b[1;33m(\u001b[0m\u001b[0mjsonFile\u001b[0m\u001b[1;33m)\u001b[0m\u001b[1;33m\u001b[0m\u001b[1;33m\u001b[0m\u001b[0m\n\u001b[0;32m      8\u001b[0m         \u001b[0mdata\u001b[0m\u001b[1;33m[\u001b[0m\u001b[1;34mf\"_id{index}\"\u001b[0m\u001b[1;33m]\u001b[0m\u001b[1;33m[\u001b[0m\u001b[0mdataToUpdate\u001b[0m\u001b[1;33m]\u001b[0m \u001b[1;33m=\u001b[0m \u001b[0mvalue\u001b[0m\u001b[1;33m\u001b[0m\u001b[1;33m\u001b[0m\u001b[0m\n",
      "\u001b[1;32m~\\anaconda3\\envs\\myenv\\lib\\_bootlocale.py\u001b[0m in \u001b[0;36mgetpreferredencoding\u001b[1;34m(do_setlocale)\u001b[0m\n\u001b[0;32m      9\u001b[0m \u001b[1;33m\u001b[0m\u001b[0m\n\u001b[0;32m     10\u001b[0m \u001b[1;32mif\u001b[0m \u001b[0msys\u001b[0m\u001b[1;33m.\u001b[0m\u001b[0mplatform\u001b[0m\u001b[1;33m.\u001b[0m\u001b[0mstartswith\u001b[0m\u001b[1;33m(\u001b[0m\u001b[1;34m\"win\"\u001b[0m\u001b[1;33m)\u001b[0m\u001b[1;33m:\u001b[0m\u001b[1;33m\u001b[0m\u001b[1;33m\u001b[0m\u001b[0m\n\u001b[1;32m---> 11\u001b[1;33m     \u001b[1;32mdef\u001b[0m \u001b[0mgetpreferredencoding\u001b[0m\u001b[1;33m(\u001b[0m\u001b[0mdo_setlocale\u001b[0m\u001b[1;33m=\u001b[0m\u001b[1;32mTrue\u001b[0m\u001b[1;33m)\u001b[0m\u001b[1;33m:\u001b[0m\u001b[1;33m\u001b[0m\u001b[1;33m\u001b[0m\u001b[0m\n\u001b[0m\u001b[0;32m     12\u001b[0m         \u001b[1;32mif\u001b[0m \u001b[0msys\u001b[0m\u001b[1;33m.\u001b[0m\u001b[0mflags\u001b[0m\u001b[1;33m.\u001b[0m\u001b[0mutf8_mode\u001b[0m\u001b[1;33m:\u001b[0m\u001b[1;33m\u001b[0m\u001b[1;33m\u001b[0m\u001b[0m\n\u001b[0;32m     13\u001b[0m             \u001b[1;32mreturn\u001b[0m \u001b[1;34m'UTF-8'\u001b[0m\u001b[1;33m\u001b[0m\u001b[1;33m\u001b[0m\u001b[0m\n",
      "\u001b[1;31mKeyboardInterrupt\u001b[0m: "
     ]
    }
   ],
   "source": [
    "size=[600,600]\n",
    "clock = pygame.time.Clock()\n",
    "screen=pygame.display.set_mode(size)\n",
    "dt = 0.05\n",
    "planets = []\n",
    "planets_data = {}\n",
    "\n",
    "\n",
    "\n",
    "#planets.append(Planet())\n",
    "number_of_planets = 50\n",
    "for i in range(number_of_planets):\n",
    "    planets.append(Planet(i,f\"{i}\",random.randint(0,250),random.randint(0,250),random.randint(5,7),random.randint(5,7)))\n",
    "    planets_data[f\"_id{i}\"] = planets[i].get()\n",
    "saveToJson(planets_data)\n",
    "sun = Sun(str(random.randint(0,250)),size[0]/2,size[0]/2)\n",
    "sun.saveToJson()\n",
    "# Animation dans la fenêtre PyGame\n",
    "def animation(screen) :\n",
    "    for planet in planets : \n",
    "        planet.draw(screen)\n",
    "        planet.x, planet.y, planet.vx, planet.vy = next_iteration(sun.masse, dt, planet.x-sun.x,planet.y-sun.y,planet.vx,planet.vy)\n",
    "        planet.x += sun.x\n",
    "        planet.y += sun.y\n",
    "        v1 = pygame.math.Vector2(sun.x, sun.y)\n",
    "        v2 = pygame.math.Vector2(planet.x, planet.y)\n",
    "        planet.calculRevolution(v1,v2)\n",
    "        planet.checkCollisionWithSun(v1,v2)\n",
    "        if(planet.revolution == True or planet.destroy == True):\n",
    "            updateJson(planet.index, 'revolution',True)\n",
    "            updateJson(planet.index, 'destroy',True)\n",
    "\n",
    "\n",
    "\n",
    "        \n",
    "    sun.draw(screen)\n",
    "\n",
    "    \n",
    " \n",
    "def mainloop():\n",
    "    while True:\n",
    "        for event in pygame.event.get():\n",
    "            if event.type == pygame.QUIT:\n",
    "                pygame.quit()\n",
    "\n",
    "        animation(screen)\n",
    "        pygame.display.flip()\n",
    "        clock.tick(60)\n",
    "        pygame.display.update()\n",
    "        screen.fill((0, 0, 0))\n",
    "\n",
    "                    \n",
    "\n",
    "\n",
    "mainloop()"
   ]
  },
  {
   "cell_type": "code",
   "execution_count": 27,
   "metadata": {},
   "outputs": [
    {
     "data": {
      "image/png": "[encoded data removed]",
      "text/plain": [
       "<Figure size 432x288 with 1 Axes>"
      ]
     },
     "metadata": {
      "needs_background": "light"
     },
     "output_type": "display_data"
    }
   ],
   "source": [
    "dataPlanet = json.load(open('data_planet.json'))\n",
    "dataSun = json.load(open('data_sun.json'))\n",
    " \n",
    "x = []\n",
    "y = []\n",
    "size = []\n",
    "color = []\n",
    "for i in range(len(dataPlanet)):\n",
    "\n",
    "    x.append(dataPlanet[f\"_id{i}\"]['x at t0'])\n",
    "    y.append(dataPlanet[f\"_id{i}\"]['y at t0'])\n",
    "    size.append(dataPlanet[f\"_id{i}\"]['radius']*6)\n",
    "    if(dataPlanet[f\"_id{i}\"]['revolution'] == True):\n",
    "        color.append(\"#008000\")\n",
    "    else :\n",
    "        color.append(\"#FF0000\")\n",
    "    \n",
    "plt.scatter(x,y, s=size, c=color)\n",
    "#plt.savefig('ScatterPlot_01.png')\n",
    "plt.show()"
   ]
  }
 ],
 "metadata": {
  "interpreter": {
   "hash": "bdda31b3a0b7ab9c56515ed654b35031d764b366d0fac196bee995b7ec2e6fd8"
  },
  "kernelspec": {
   "display_name": "Python 3.8.5 ('myenv')",
   "language": "python",
   "name": "python3"
  },
  "language_info": {
   "codemirror_mode": {
    "name": "ipython",
    "version": 3
   },
   "file_extension": ".py",
   "mimetype": "text/x-python",
   "name": "python",
   "nbconvert_exporter": "python",
   "pygments_lexer": "ipython3",
   "version": "3.7.10"
  },
  "orig_nbformat": 4
 },
 "nbformat": 4,
 "nbformat_minor": 2
}
